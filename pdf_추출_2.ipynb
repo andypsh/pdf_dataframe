{
 "cells": [
  {
   "cell_type": "code",
   "execution_count": null,
   "metadata": {
    "collapsed": true,
    "pycharm": {
     "name": "#%%\n"
    }
   },
   "outputs": [],
   "source": []
  },
  {
   "cell_type": "code",
   "execution_count": 7,
   "outputs": [
    {
     "name": "stdout",
     "output_type": "stream",
     "text": [
      "   01             비만  주의 / 28점    16        나트륨 배출  안심 / 93점\n",
      "0   2           체지방률  보통 / 48점  17.0           요산치  안심 / 87점\n",
      "1   3          체질량지수  주의 / 30점  18.0     혈청 단백질 농도  보통 / 71점\n",
      "2   4           제지방량  보통 / 70점  19.0           골질량  보통 / 62점\n",
      "3   5        사지 제지방량  보통 / 59점  20.0  퇴행성 관절염증 감수성  보통 / 68점\n",
      "4   6  복부비만(엉덩이허리비율)  주의 / 35점  21.0         배변 빈도  안심 / 61점\n"
     ]
    }
   ],
   "source": [
    "from tabula import read_pdf\n",
    "import pandas as pd\n",
    "\n",
    "def read_pdf_table_to_dataframe(pdf_path, page_number):\n",
    "    # tabula-py can only read tables from a PDF, ensure your PDF contains tables.\n",
    "    df_list = read_pdf(pdf_path, pages=page_number, multiple_tables=True)\n",
    "\n",
    "    # read_pdf returns a list of DataFrames, so concatenate them if there are multiple tables.\n",
    "    df = pd.concat(df_list, ignore_index=True) if df_list else pd.DataFrame()\n",
    "\n",
    "    return df\n",
    "\n",
    "# Specify the path to your PDF, and the page number you want to extract the table from.\n",
    "pdf_path = '젠톡_김지은_2.pdf'  # Change to your PDF file path.\n",
    "page_number = '8'  # Change to your specific page number.\n",
    "\n",
    "# Call the function and get the DataFrame.\n",
    "df = read_pdf_table_to_dataframe(pdf_path, page_number)\n",
    "\n",
    "# Now you can work with the DataFrame.\n",
    "print(df.head())\n"
   ],
   "metadata": {
    "collapsed": false,
    "pycharm": {
     "name": "#%%\n"
    }
   }
  },
  {
   "cell_type": "code",
   "execution_count": 4,
   "outputs": [
    {
     "data": {
      "text/plain": "    01                     비만  주의 / 28점    16        나트륨 배출  안심 / 93점\n0    2                   체지방률  보통 / 48점  17.0           요산치  안심 / 87점\n1    3                  체질량지수  주의 / 30점  18.0     혈청 단백질 농도  보통 / 71점\n2    4                   제지방량  보통 / 70점  19.0           골질량  보통 / 62점\n3    5                사지 제지방량  보통 / 59점  20.0  퇴행성 관절염증 감수성  보통 / 68점\n4    6          복부비만(엉덩이허리비율)  주의 / 35점  21.0         배변 빈도  안심 / 61점\n5    7  체중감량 후 체중회복가능성(요요가능성)  높음 / 23점  22.0            멀미  주의 / 34점\n6    8          운동에 의한 체중감량효과  낮음 / 24점   NaN           NaN       NaN\n7    9                    폐활량  보통 / 57점   NaN           NaN       NaN\n8   10                중성지방 농도  보통 / 71점   NaN           NaN       NaN\n9   11                  콜레스테롤  낮음 / 91점   NaN           NaN       NaN\n10  12           LDL 콜레스테롤 농도  보통 / 42점   NaN           NaN       NaN\n11  13           HDL 콜레스테롤 농도  보통 / 82점   NaN           NaN       NaN\n12  14                     혈당  주의 / 24점   NaN           NaN       NaN\n13  15                     혈압  보통 / 74점   NaN           NaN       NaN",
      "text/html": "<div>\n<style scoped>\n    .dataframe tbody tr th:only-of-type {\n        vertical-align: middle;\n    }\n\n    .dataframe tbody tr th {\n        vertical-align: top;\n    }\n\n    .dataframe thead th {\n        text-align: right;\n    }\n</style>\n<table border=\"1\" class=\"dataframe\">\n  <thead>\n    <tr style=\"text-align: right;\">\n      <th></th>\n      <th>01</th>\n      <th>비만</th>\n      <th>주의 / 28점</th>\n      <th>16</th>\n      <th>나트륨 배출</th>\n      <th>안심 / 93점</th>\n    </tr>\n  </thead>\n  <tbody>\n    <tr>\n      <th>0</th>\n      <td>2</td>\n      <td>체지방률</td>\n      <td>보통 / 48점</td>\n      <td>17.0</td>\n      <td>요산치</td>\n      <td>안심 / 87점</td>\n    </tr>\n    <tr>\n      <th>1</th>\n      <td>3</td>\n      <td>체질량지수</td>\n      <td>주의 / 30점</td>\n      <td>18.0</td>\n      <td>혈청 단백질 농도</td>\n      <td>보통 / 71점</td>\n    </tr>\n    <tr>\n      <th>2</th>\n      <td>4</td>\n      <td>제지방량</td>\n      <td>보통 / 70점</td>\n      <td>19.0</td>\n      <td>골질량</td>\n      <td>보통 / 62점</td>\n    </tr>\n    <tr>\n      <th>3</th>\n      <td>5</td>\n      <td>사지 제지방량</td>\n      <td>보통 / 59점</td>\n      <td>20.0</td>\n      <td>퇴행성 관절염증 감수성</td>\n      <td>보통 / 68점</td>\n    </tr>\n    <tr>\n      <th>4</th>\n      <td>6</td>\n      <td>복부비만(엉덩이허리비율)</td>\n      <td>주의 / 35점</td>\n      <td>21.0</td>\n      <td>배변 빈도</td>\n      <td>안심 / 61점</td>\n    </tr>\n    <tr>\n      <th>5</th>\n      <td>7</td>\n      <td>체중감량 후 체중회복가능성(요요가능성)</td>\n      <td>높음 / 23점</td>\n      <td>22.0</td>\n      <td>멀미</td>\n      <td>주의 / 34점</td>\n    </tr>\n    <tr>\n      <th>6</th>\n      <td>8</td>\n      <td>운동에 의한 체중감량효과</td>\n      <td>낮음 / 24점</td>\n      <td>NaN</td>\n      <td>NaN</td>\n      <td>NaN</td>\n    </tr>\n    <tr>\n      <th>7</th>\n      <td>9</td>\n      <td>폐활량</td>\n      <td>보통 / 57점</td>\n      <td>NaN</td>\n      <td>NaN</td>\n      <td>NaN</td>\n    </tr>\n    <tr>\n      <th>8</th>\n      <td>10</td>\n      <td>중성지방 농도</td>\n      <td>보통 / 71점</td>\n      <td>NaN</td>\n      <td>NaN</td>\n      <td>NaN</td>\n    </tr>\n    <tr>\n      <th>9</th>\n      <td>11</td>\n      <td>콜레스테롤</td>\n      <td>낮음 / 91점</td>\n      <td>NaN</td>\n      <td>NaN</td>\n      <td>NaN</td>\n    </tr>\n    <tr>\n      <th>10</th>\n      <td>12</td>\n      <td>LDL 콜레스테롤 농도</td>\n      <td>보통 / 42점</td>\n      <td>NaN</td>\n      <td>NaN</td>\n      <td>NaN</td>\n    </tr>\n    <tr>\n      <th>11</th>\n      <td>13</td>\n      <td>HDL 콜레스테롤 농도</td>\n      <td>보통 / 82점</td>\n      <td>NaN</td>\n      <td>NaN</td>\n      <td>NaN</td>\n    </tr>\n    <tr>\n      <th>12</th>\n      <td>14</td>\n      <td>혈당</td>\n      <td>주의 / 24점</td>\n      <td>NaN</td>\n      <td>NaN</td>\n      <td>NaN</td>\n    </tr>\n    <tr>\n      <th>13</th>\n      <td>15</td>\n      <td>혈압</td>\n      <td>보통 / 74점</td>\n      <td>NaN</td>\n      <td>NaN</td>\n      <td>NaN</td>\n    </tr>\n  </tbody>\n</table>\n</div>"
     },
     "execution_count": 4,
     "metadata": {},
     "output_type": "execute_result"
    }
   ],
   "source": [
    "df"
   ],
   "metadata": {
    "collapsed": false,
    "pycharm": {
     "name": "#%%\n"
    }
   }
  },
  {
   "cell_type": "code",
   "execution_count": 33,
   "outputs": [
    {
     "data": {
      "text/plain": "    01                     비만  주의 / 28점    16        나트륨 배출  안심 / 93점\n0    2                   체지방률  보통 / 48점  17.0           요산치  안심 / 87점\n1    3                  체질량지수  주의 / 30점  18.0     혈청 단백질 농도  보통 / 71점\n2    4                   제지방량  보통 / 70점  19.0           골질량  보통 / 62점\n3    5                사지 제지방량  보통 / 59점  20.0  퇴행성 관절염증 감수성  보통 / 68점\n4    6          복부비만(엉덩이허리비율)  주의 / 35점  21.0         배변 빈도  안심 / 61점\n5    7  체중감량 후 체중회복가능성(요요가능성)  높음 / 23점  22.0            멀미  주의 / 34점\n6    8          운동에 의한 체중감량효과  낮음 / 24점   NaN           NaN       NaN\n7    9                    폐활량  보통 / 57점   NaN           NaN       NaN\n8   10                중성지방 농도  보통 / 71점   NaN           NaN       NaN\n9   11                  콜레스테롤  낮음 / 91점   NaN           NaN       NaN\n10  12           LDL 콜레스테롤 농도  보통 / 42점   NaN           NaN       NaN\n11  13           HDL 콜레스테롤 농도  보통 / 82점   NaN           NaN       NaN\n12  14                     혈당  주의 / 24점   NaN           NaN       NaN\n13  15                     혈압  보통 / 74점   NaN           NaN       NaN",
      "text/html": "<div>\n<style scoped>\n    .dataframe tbody tr th:only-of-type {\n        vertical-align: middle;\n    }\n\n    .dataframe tbody tr th {\n        vertical-align: top;\n    }\n\n    .dataframe thead th {\n        text-align: right;\n    }\n</style>\n<table border=\"1\" class=\"dataframe\">\n  <thead>\n    <tr style=\"text-align: right;\">\n      <th></th>\n      <th>01</th>\n      <th>비만</th>\n      <th>주의 / 28점</th>\n      <th>16</th>\n      <th>나트륨 배출</th>\n      <th>안심 / 93점</th>\n    </tr>\n  </thead>\n  <tbody>\n    <tr>\n      <th>0</th>\n      <td>2</td>\n      <td>체지방률</td>\n      <td>보통 / 48점</td>\n      <td>17.0</td>\n      <td>요산치</td>\n      <td>안심 / 87점</td>\n    </tr>\n    <tr>\n      <th>1</th>\n      <td>3</td>\n      <td>체질량지수</td>\n      <td>주의 / 30점</td>\n      <td>18.0</td>\n      <td>혈청 단백질 농도</td>\n      <td>보통 / 71점</td>\n    </tr>\n    <tr>\n      <th>2</th>\n      <td>4</td>\n      <td>제지방량</td>\n      <td>보통 / 70점</td>\n      <td>19.0</td>\n      <td>골질량</td>\n      <td>보통 / 62점</td>\n    </tr>\n    <tr>\n      <th>3</th>\n      <td>5</td>\n      <td>사지 제지방량</td>\n      <td>보통 / 59점</td>\n      <td>20.0</td>\n      <td>퇴행성 관절염증 감수성</td>\n      <td>보통 / 68점</td>\n    </tr>\n    <tr>\n      <th>4</th>\n      <td>6</td>\n      <td>복부비만(엉덩이허리비율)</td>\n      <td>주의 / 35점</td>\n      <td>21.0</td>\n      <td>배변 빈도</td>\n      <td>안심 / 61점</td>\n    </tr>\n    <tr>\n      <th>5</th>\n      <td>7</td>\n      <td>체중감량 후 체중회복가능성(요요가능성)</td>\n      <td>높음 / 23점</td>\n      <td>22.0</td>\n      <td>멀미</td>\n      <td>주의 / 34점</td>\n    </tr>\n    <tr>\n      <th>6</th>\n      <td>8</td>\n      <td>운동에 의한 체중감량효과</td>\n      <td>낮음 / 24점</td>\n      <td>NaN</td>\n      <td>NaN</td>\n      <td>NaN</td>\n    </tr>\n    <tr>\n      <th>7</th>\n      <td>9</td>\n      <td>폐활량</td>\n      <td>보통 / 57점</td>\n      <td>NaN</td>\n      <td>NaN</td>\n      <td>NaN</td>\n    </tr>\n    <tr>\n      <th>8</th>\n      <td>10</td>\n      <td>중성지방 농도</td>\n      <td>보통 / 71점</td>\n      <td>NaN</td>\n      <td>NaN</td>\n      <td>NaN</td>\n    </tr>\n    <tr>\n      <th>9</th>\n      <td>11</td>\n      <td>콜레스테롤</td>\n      <td>낮음 / 91점</td>\n      <td>NaN</td>\n      <td>NaN</td>\n      <td>NaN</td>\n    </tr>\n    <tr>\n      <th>10</th>\n      <td>12</td>\n      <td>LDL 콜레스테롤 농도</td>\n      <td>보통 / 42점</td>\n      <td>NaN</td>\n      <td>NaN</td>\n      <td>NaN</td>\n    </tr>\n    <tr>\n      <th>11</th>\n      <td>13</td>\n      <td>HDL 콜레스테롤 농도</td>\n      <td>보통 / 82점</td>\n      <td>NaN</td>\n      <td>NaN</td>\n      <td>NaN</td>\n    </tr>\n    <tr>\n      <th>12</th>\n      <td>14</td>\n      <td>혈당</td>\n      <td>주의 / 24점</td>\n      <td>NaN</td>\n      <td>NaN</td>\n      <td>NaN</td>\n    </tr>\n    <tr>\n      <th>13</th>\n      <td>15</td>\n      <td>혈압</td>\n      <td>보통 / 74점</td>\n      <td>NaN</td>\n      <td>NaN</td>\n      <td>NaN</td>\n    </tr>\n  </tbody>\n</table>\n</div>"
     },
     "execution_count": 33,
     "metadata": {},
     "output_type": "execute_result"
    }
   ],
   "source": [
    "import copy\n",
    "df2 = copy.deepcopy(df)\n",
    "df2"
   ],
   "metadata": {
    "collapsed": false,
    "pycharm": {
     "name": "#%%\n"
    }
   }
  },
  {
   "cell_type": "code",
   "execution_count": 34,
   "outputs": [
    {
     "data": {
      "text/plain": "['01', '비만', '주의 / 28점', '16', '나트륨 배출', '안심 / 93점']"
     },
     "execution_count": 34,
     "metadata": {},
     "output_type": "execute_result"
    }
   ],
   "source": [
    "original_header = df2.columns.tolist()\n",
    "original_header"
   ],
   "metadata": {
    "collapsed": false,
    "pycharm": {
     "name": "#%%\n"
    }
   }
  },
  {
   "cell_type": "code",
   "execution_count": 35,
   "outputs": [
    {
     "data": {
      "text/plain": "     1                      2         3     4             5         6\n0   01                     비만  주의 / 28점    16        나트륨 배출  안심 / 93점\n1    2                   체지방률  보통 / 48점  17.0           요산치  안심 / 87점\n2    3                  체질량지수  주의 / 30점  18.0     혈청 단백질 농도  보통 / 71점\n3    4                   제지방량  보통 / 70점  19.0           골질량  보통 / 62점\n4    5                사지 제지방량  보통 / 59점  20.0  퇴행성 관절염증 감수성  보통 / 68점\n5    6          복부비만(엉덩이허리비율)  주의 / 35점  21.0         배변 빈도  안심 / 61점\n6    7  체중감량 후 체중회복가능성(요요가능성)  높음 / 23점  22.0            멀미  주의 / 34점\n7    8          운동에 의한 체중감량효과  낮음 / 24점   NaN           NaN       NaN\n8    9                    폐활량  보통 / 57점   NaN           NaN       NaN\n9   10                중성지방 농도  보통 / 71점   NaN           NaN       NaN\n10  11                  콜레스테롤  낮음 / 91점   NaN           NaN       NaN\n11  12           LDL 콜레스테롤 농도  보통 / 42점   NaN           NaN       NaN\n12  13           HDL 콜레스테롤 농도  보통 / 82점   NaN           NaN       NaN\n13  14                     혈당  주의 / 24점   NaN           NaN       NaN\n14  15                     혈압  보통 / 74점   NaN           NaN       NaN",
      "text/html": "<div>\n<style scoped>\n    .dataframe tbody tr th:only-of-type {\n        vertical-align: middle;\n    }\n\n    .dataframe tbody tr th {\n        vertical-align: top;\n    }\n\n    .dataframe thead th {\n        text-align: right;\n    }\n</style>\n<table border=\"1\" class=\"dataframe\">\n  <thead>\n    <tr style=\"text-align: right;\">\n      <th></th>\n      <th>1</th>\n      <th>2</th>\n      <th>3</th>\n      <th>4</th>\n      <th>5</th>\n      <th>6</th>\n    </tr>\n  </thead>\n  <tbody>\n    <tr>\n      <th>0</th>\n      <td>01</td>\n      <td>비만</td>\n      <td>주의 / 28점</td>\n      <td>16</td>\n      <td>나트륨 배출</td>\n      <td>안심 / 93점</td>\n    </tr>\n    <tr>\n      <th>1</th>\n      <td>2</td>\n      <td>체지방률</td>\n      <td>보통 / 48점</td>\n      <td>17.0</td>\n      <td>요산치</td>\n      <td>안심 / 87점</td>\n    </tr>\n    <tr>\n      <th>2</th>\n      <td>3</td>\n      <td>체질량지수</td>\n      <td>주의 / 30점</td>\n      <td>18.0</td>\n      <td>혈청 단백질 농도</td>\n      <td>보통 / 71점</td>\n    </tr>\n    <tr>\n      <th>3</th>\n      <td>4</td>\n      <td>제지방량</td>\n      <td>보통 / 70점</td>\n      <td>19.0</td>\n      <td>골질량</td>\n      <td>보통 / 62점</td>\n    </tr>\n    <tr>\n      <th>4</th>\n      <td>5</td>\n      <td>사지 제지방량</td>\n      <td>보통 / 59점</td>\n      <td>20.0</td>\n      <td>퇴행성 관절염증 감수성</td>\n      <td>보통 / 68점</td>\n    </tr>\n    <tr>\n      <th>5</th>\n      <td>6</td>\n      <td>복부비만(엉덩이허리비율)</td>\n      <td>주의 / 35점</td>\n      <td>21.0</td>\n      <td>배변 빈도</td>\n      <td>안심 / 61점</td>\n    </tr>\n    <tr>\n      <th>6</th>\n      <td>7</td>\n      <td>체중감량 후 체중회복가능성(요요가능성)</td>\n      <td>높음 / 23점</td>\n      <td>22.0</td>\n      <td>멀미</td>\n      <td>주의 / 34점</td>\n    </tr>\n    <tr>\n      <th>7</th>\n      <td>8</td>\n      <td>운동에 의한 체중감량효과</td>\n      <td>낮음 / 24점</td>\n      <td>NaN</td>\n      <td>NaN</td>\n      <td>NaN</td>\n    </tr>\n    <tr>\n      <th>8</th>\n      <td>9</td>\n      <td>폐활량</td>\n      <td>보통 / 57점</td>\n      <td>NaN</td>\n      <td>NaN</td>\n      <td>NaN</td>\n    </tr>\n    <tr>\n      <th>9</th>\n      <td>10</td>\n      <td>중성지방 농도</td>\n      <td>보통 / 71점</td>\n      <td>NaN</td>\n      <td>NaN</td>\n      <td>NaN</td>\n    </tr>\n    <tr>\n      <th>10</th>\n      <td>11</td>\n      <td>콜레스테롤</td>\n      <td>낮음 / 91점</td>\n      <td>NaN</td>\n      <td>NaN</td>\n      <td>NaN</td>\n    </tr>\n    <tr>\n      <th>11</th>\n      <td>12</td>\n      <td>LDL 콜레스테롤 농도</td>\n      <td>보통 / 42점</td>\n      <td>NaN</td>\n      <td>NaN</td>\n      <td>NaN</td>\n    </tr>\n    <tr>\n      <th>12</th>\n      <td>13</td>\n      <td>HDL 콜레스테롤 농도</td>\n      <td>보통 / 82점</td>\n      <td>NaN</td>\n      <td>NaN</td>\n      <td>NaN</td>\n    </tr>\n    <tr>\n      <th>13</th>\n      <td>14</td>\n      <td>혈당</td>\n      <td>주의 / 24점</td>\n      <td>NaN</td>\n      <td>NaN</td>\n      <td>NaN</td>\n    </tr>\n    <tr>\n      <th>14</th>\n      <td>15</td>\n      <td>혈압</td>\n      <td>보통 / 74점</td>\n      <td>NaN</td>\n      <td>NaN</td>\n      <td>NaN</td>\n    </tr>\n  </tbody>\n</table>\n</div>"
     },
     "execution_count": 35,
     "metadata": {},
     "output_type": "execute_result"
    }
   ],
   "source": [
    "df2.columns = range(1, len(df2.columns) + 1)\n",
    "df2.loc[-1] = original_header  # Add a row at the end with the original headers\n",
    "df2.index = df2.index + 1  # Shift the index\n",
    "df2.sort_index(inplace=True)  # Sort by index to move the new row to the top\n",
    "\n",
    "# Display the DataFrame to verify\n",
    "df2"
   ],
   "metadata": {
    "collapsed": false,
    "pycharm": {
     "name": "#%%\n"
    }
   }
  },
  {
   "cell_type": "code",
   "execution_count": 36,
   "outputs": [],
   "source": [
    "# # 데이터프레임 df의 4, 5, 6열에서 0~15번 인덱스의 데이터를 추출합니다.\n",
    "# columns_to_move = df2.iloc[0:16, 3:6]\n",
    "#\n",
    "# # 원본 데이터프레임 df에서 4, 5, 6열을 제거합니다.\n",
    "# df2.drop(columns=[4, 5, 6], inplace=True)\n",
    "#\n",
    "# # 추출한 데이터(columns_to_move)를 df 데이터프레임의 맨 아래에 추가합니다.\n",
    "# df2 = df2.append(columns_to_move, ignore_index=True)\n",
    "# df2\n",
    "# # 이제 df 데이터프레임에는 원래의 4, 5, 6열 데이터가 1, 2, 3열의 아래에 추가된 상태입니다.\n"
   ],
   "metadata": {
    "collapsed": false,
    "pycharm": {
     "name": "#%%\n"
    }
   }
  },
  {
   "cell_type": "code",
   "execution_count": 39,
   "outputs": [
    {
     "data": {
      "text/plain": "       4             5         6\n0     16        나트륨 배출  안심 / 93점\n1   17.0           요산치  안심 / 87점\n2   18.0     혈청 단백질 농도  보통 / 71점\n3   19.0           골질량  보통 / 62점\n4   20.0  퇴행성 관절염증 감수성  보통 / 68점\n5   21.0         배변 빈도  안심 / 61점\n6   22.0            멀미  주의 / 34점\n7    NaN           NaN       NaN\n8    NaN           NaN       NaN\n9    NaN           NaN       NaN\n10   NaN           NaN       NaN\n11   NaN           NaN       NaN\n12   NaN           NaN       NaN\n13   NaN           NaN       NaN\n14   NaN           NaN       NaN\n15   NaN           NaN       NaN",
      "text/html": "<div>\n<style scoped>\n    .dataframe tbody tr th:only-of-type {\n        vertical-align: middle;\n    }\n\n    .dataframe tbody tr th {\n        vertical-align: top;\n    }\n\n    .dataframe thead th {\n        text-align: right;\n    }\n</style>\n<table border=\"1\" class=\"dataframe\">\n  <thead>\n    <tr style=\"text-align: right;\">\n      <th></th>\n      <th>4</th>\n      <th>5</th>\n      <th>6</th>\n    </tr>\n  </thead>\n  <tbody>\n    <tr>\n      <th>0</th>\n      <td>16</td>\n      <td>나트륨 배출</td>\n      <td>안심 / 93점</td>\n    </tr>\n    <tr>\n      <th>1</th>\n      <td>17.0</td>\n      <td>요산치</td>\n      <td>안심 / 87점</td>\n    </tr>\n    <tr>\n      <th>2</th>\n      <td>18.0</td>\n      <td>혈청 단백질 농도</td>\n      <td>보통 / 71점</td>\n    </tr>\n    <tr>\n      <th>3</th>\n      <td>19.0</td>\n      <td>골질량</td>\n      <td>보통 / 62점</td>\n    </tr>\n    <tr>\n      <th>4</th>\n      <td>20.0</td>\n      <td>퇴행성 관절염증 감수성</td>\n      <td>보통 / 68점</td>\n    </tr>\n    <tr>\n      <th>5</th>\n      <td>21.0</td>\n      <td>배변 빈도</td>\n      <td>안심 / 61점</td>\n    </tr>\n    <tr>\n      <th>6</th>\n      <td>22.0</td>\n      <td>멀미</td>\n      <td>주의 / 34점</td>\n    </tr>\n    <tr>\n      <th>7</th>\n      <td>NaN</td>\n      <td>NaN</td>\n      <td>NaN</td>\n    </tr>\n    <tr>\n      <th>8</th>\n      <td>NaN</td>\n      <td>NaN</td>\n      <td>NaN</td>\n    </tr>\n    <tr>\n      <th>9</th>\n      <td>NaN</td>\n      <td>NaN</td>\n      <td>NaN</td>\n    </tr>\n    <tr>\n      <th>10</th>\n      <td>NaN</td>\n      <td>NaN</td>\n      <td>NaN</td>\n    </tr>\n    <tr>\n      <th>11</th>\n      <td>NaN</td>\n      <td>NaN</td>\n      <td>NaN</td>\n    </tr>\n    <tr>\n      <th>12</th>\n      <td>NaN</td>\n      <td>NaN</td>\n      <td>NaN</td>\n    </tr>\n    <tr>\n      <th>13</th>\n      <td>NaN</td>\n      <td>NaN</td>\n      <td>NaN</td>\n    </tr>\n    <tr>\n      <th>14</th>\n      <td>NaN</td>\n      <td>NaN</td>\n      <td>NaN</td>\n    </tr>\n    <tr>\n      <th>15</th>\n      <td>NaN</td>\n      <td>NaN</td>\n      <td>NaN</td>\n    </tr>\n  </tbody>\n</table>\n</div>"
     },
     "execution_count": 39,
     "metadata": {},
     "output_type": "execute_result"
    }
   ],
   "source": [
    "# 데이터프레임 df의 4, 5, 6열에서 0~15번 인덱스의 데이터를 복사합니다.\n",
    "data_to_move = df2.iloc[0:16, 3:6].copy()\n",
    "\n",
    "data_to_move\n"
   ],
   "metadata": {
    "collapsed": false,
    "pycharm": {
     "name": "#%%\n"
    }
   }
  },
  {
   "cell_type": "code",
   "execution_count": 41,
   "outputs": [
    {
     "data": {
      "text/plain": "      1    2    3\n63  NaN  NaN  NaN\n64  NaN  NaN  NaN\n65  NaN  NaN  NaN\n66  NaN  NaN  NaN\n67  NaN  NaN  NaN\n68  NaN  NaN  NaN\n69  NaN  NaN  NaN\n70  NaN  NaN  NaN\n71  NaN  NaN  NaN\n72  NaN  NaN  NaN\n73  NaN  NaN  NaN\n74  NaN  NaN  NaN\n75  NaN  NaN  NaN\n76  NaN  NaN  NaN\n77  NaN  NaN  NaN\n78  NaN  NaN  NaN",
      "text/html": "<div>\n<style scoped>\n    .dataframe tbody tr th:only-of-type {\n        vertical-align: middle;\n    }\n\n    .dataframe tbody tr th {\n        vertical-align: top;\n    }\n\n    .dataframe thead th {\n        text-align: right;\n    }\n</style>\n<table border=\"1\" class=\"dataframe\">\n  <thead>\n    <tr style=\"text-align: right;\">\n      <th></th>\n      <th>1</th>\n      <th>2</th>\n      <th>3</th>\n    </tr>\n  </thead>\n  <tbody>\n    <tr>\n      <th>63</th>\n      <td>NaN</td>\n      <td>NaN</td>\n      <td>NaN</td>\n    </tr>\n    <tr>\n      <th>64</th>\n      <td>NaN</td>\n      <td>NaN</td>\n      <td>NaN</td>\n    </tr>\n    <tr>\n      <th>65</th>\n      <td>NaN</td>\n      <td>NaN</td>\n      <td>NaN</td>\n    </tr>\n    <tr>\n      <th>66</th>\n      <td>NaN</td>\n      <td>NaN</td>\n      <td>NaN</td>\n    </tr>\n    <tr>\n      <th>67</th>\n      <td>NaN</td>\n      <td>NaN</td>\n      <td>NaN</td>\n    </tr>\n    <tr>\n      <th>68</th>\n      <td>NaN</td>\n      <td>NaN</td>\n      <td>NaN</td>\n    </tr>\n    <tr>\n      <th>69</th>\n      <td>NaN</td>\n      <td>NaN</td>\n      <td>NaN</td>\n    </tr>\n    <tr>\n      <th>70</th>\n      <td>NaN</td>\n      <td>NaN</td>\n      <td>NaN</td>\n    </tr>\n    <tr>\n      <th>71</th>\n      <td>NaN</td>\n      <td>NaN</td>\n      <td>NaN</td>\n    </tr>\n    <tr>\n      <th>72</th>\n      <td>NaN</td>\n      <td>NaN</td>\n      <td>NaN</td>\n    </tr>\n    <tr>\n      <th>73</th>\n      <td>NaN</td>\n      <td>NaN</td>\n      <td>NaN</td>\n    </tr>\n    <tr>\n      <th>74</th>\n      <td>NaN</td>\n      <td>NaN</td>\n      <td>NaN</td>\n    </tr>\n    <tr>\n      <th>75</th>\n      <td>NaN</td>\n      <td>NaN</td>\n      <td>NaN</td>\n    </tr>\n    <tr>\n      <th>76</th>\n      <td>NaN</td>\n      <td>NaN</td>\n      <td>NaN</td>\n    </tr>\n    <tr>\n      <th>77</th>\n      <td>NaN</td>\n      <td>NaN</td>\n      <td>NaN</td>\n    </tr>\n    <tr>\n      <th>78</th>\n      <td>NaN</td>\n      <td>NaN</td>\n      <td>NaN</td>\n    </tr>\n  </tbody>\n</table>\n</div>"
     },
     "execution_count": 41,
     "metadata": {},
     "output_type": "execute_result"
    }
   ],
   "source": [
    "# 복사한 데이터를 데이터프레임 df의 1, 2, 3열 아래에 추가합니다.\n",
    "# 이를 위해 인덱스를 재설정하고, 필요하면 빈 값으로 새 열을 만들어줍니다.\n",
    "df_length = len(df2)\n",
    "additional_rows = pd.DataFrame(index=range(df_length, df_length + 16),\n",
    "                               columns=df2.columns[:3])\n",
    "additional_rows"
   ],
   "metadata": {
    "collapsed": false,
    "pycharm": {
     "name": "#%%\n"
    }
   }
  },
  {
   "cell_type": "code",
   "execution_count": null,
   "outputs": [],
   "source": [
    "# 기존 1, 2, 3열에는 NaN 값이 있을 테니, 복사한 데이터를 해당 위치에 삽입합니다.\n",
    "df2.iloc[df_length:, :3] = data_to_move.values\n",
    "\n",
    "# 마지막으로 원래의 4, 5, 6열을 데이터프레임에서 제거합니다.\n",
    "df2.drop(columns=df.columns[3:6], inplace=True)"
   ],
   "metadata": {
    "collapsed": false,
    "pycharm": {
     "name": "#%%\n"
    }
   }
  }
 ],
 "metadata": {
  "kernelspec": {
   "display_name": "Python 3",
   "language": "python",
   "name": "python3"
  },
  "language_info": {
   "codemirror_mode": {
    "name": "ipython",
    "version": 2
   },
   "file_extension": ".py",
   "mimetype": "text/x-python",
   "name": "python",
   "nbconvert_exporter": "python",
   "pygments_lexer": "ipython2",
   "version": "2.7.6"
  }
 },
 "nbformat": 4,
 "nbformat_minor": 0
}