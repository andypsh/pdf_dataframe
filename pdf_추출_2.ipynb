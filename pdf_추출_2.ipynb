{
 "cells": [
  {
   "cell_type": "code",
   "execution_count": 36,
   "metadata": {
    "collapsed": true,
    "pycharm": {
     "name": "#%%\n"
    },
    "ExecuteTime": {
     "end_time": "2024-04-11T03:22:29.310631500Z",
     "start_time": "2024-04-11T03:22:29.288845100Z"
    }
   },
   "outputs": [],
   "source": []
  },
  {
   "cell_type": "code",
   "execution_count": 37,
   "outputs": [
    {
     "name": "stdout",
     "output_type": "stream",
     "text": [
      "   01             비만  주의 / 28점    16        나트륨 배출  안심 / 93점\n",
      "0   2           체지방률  보통 / 48점  17.0           요산치  안심 / 87점\n",
      "1   3          체질량지수  주의 / 30점  18.0     혈청 단백질 농도  보통 / 71점\n",
      "2   4           제지방량  보통 / 70점  19.0           골질량  보통 / 62점\n",
      "3   5        사지 제지방량  보통 / 59점  20.0  퇴행성 관절염증 감수성  보통 / 68점\n",
      "4   6  복부비만(엉덩이허리비율)  주의 / 35점  21.0         배변 빈도  안심 / 61점\n"
     ]
    }
   ],
   "source": [
    "from tabula import read_pdf\n",
    "import pandas as pd\n",
    "\n",
    "def read_pdf_table_to_dataframe(pdf_path, page_number):\n",
    "    # tabula-py can only read tables from a PDF, ensure your PDF contains tables.\n",
    "    df_list = read_pdf(pdf_path, pages=page_number, multiple_tables=True)\n",
    "\n",
    "\n",
    "\n",
    "    # read_pdf returns a list of DataFrames, so concatenate them if there are multiple tables.\n",
    "    df = pd.concat(df_list, ignore_index=True) if df_list else pd.DataFrame()\n",
    "\n",
    "    return df\n",
    "\n",
    "# Specify the path to your PDF, and the page number you want to extract the table from.\n",
    "pdf_path = '젠톡_김지은_2.pdf'  # Change to your PDF file path.\n",
    "page_number = '8'  # Change to your specific page number.\n",
    "\n",
    "# Call the function and get the DataFrame.\n",
    "df = read_pdf_table_to_dataframe(pdf_path, page_number)\n",
    "\n",
    "# Now you can work with the DataFrame.\n",
    "print(df.head())\n"
   ],
   "metadata": {
    "collapsed": false,
    "pycharm": {
     "name": "#%%\n"
    },
    "ExecuteTime": {
     "end_time": "2024-04-11T03:22:33.982125300Z",
     "start_time": "2024-04-11T03:22:29.297614300Z"
    }
   }
  },
  {
   "cell_type": "code",
   "execution_count": 38,
   "outputs": [
    {
     "data": {
      "text/plain": "    01                     비만  주의 / 28점    16        나트륨 배출  안심 / 93점\n0    2                   체지방률  보통 / 48점  17.0           요산치  안심 / 87점\n1    3                  체질량지수  주의 / 30점  18.0     혈청 단백질 농도  보통 / 71점\n2    4                   제지방량  보통 / 70점  19.0           골질량  보통 / 62점\n3    5                사지 제지방량  보통 / 59점  20.0  퇴행성 관절염증 감수성  보통 / 68점\n4    6          복부비만(엉덩이허리비율)  주의 / 35점  21.0         배변 빈도  안심 / 61점\n5    7  체중감량 후 체중회복가능성(요요가능성)  높음 / 23점  22.0            멀미  주의 / 34점\n6    8          운동에 의한 체중감량효과  낮음 / 24점   NaN           NaN       NaN\n7    9                    폐활량  보통 / 57점   NaN           NaN       NaN\n8   10                중성지방 농도  보통 / 71점   NaN           NaN       NaN\n9   11                  콜레스테롤  낮음 / 91점   NaN           NaN       NaN\n10  12           LDL 콜레스테롤 농도  보통 / 42점   NaN           NaN       NaN\n11  13           HDL 콜레스테롤 농도  보통 / 82점   NaN           NaN       NaN\n12  14                     혈당  주의 / 24점   NaN           NaN       NaN\n13  15                     혈압  보통 / 74점   NaN           NaN       NaN",
      "text/html": "<div>\n<style scoped>\n    .dataframe tbody tr th:only-of-type {\n        vertical-align: middle;\n    }\n\n    .dataframe tbody tr th {\n        vertical-align: top;\n    }\n\n    .dataframe thead th {\n        text-align: right;\n    }\n</style>\n<table border=\"1\" class=\"dataframe\">\n  <thead>\n    <tr style=\"text-align: right;\">\n      <th></th>\n      <th>01</th>\n      <th>비만</th>\n      <th>주의 / 28점</th>\n      <th>16</th>\n      <th>나트륨 배출</th>\n      <th>안심 / 93점</th>\n    </tr>\n  </thead>\n  <tbody>\n    <tr>\n      <th>0</th>\n      <td>2</td>\n      <td>체지방률</td>\n      <td>보통 / 48점</td>\n      <td>17.0</td>\n      <td>요산치</td>\n      <td>안심 / 87점</td>\n    </tr>\n    <tr>\n      <th>1</th>\n      <td>3</td>\n      <td>체질량지수</td>\n      <td>주의 / 30점</td>\n      <td>18.0</td>\n      <td>혈청 단백질 농도</td>\n      <td>보통 / 71점</td>\n    </tr>\n    <tr>\n      <th>2</th>\n      <td>4</td>\n      <td>제지방량</td>\n      <td>보통 / 70점</td>\n      <td>19.0</td>\n      <td>골질량</td>\n      <td>보통 / 62점</td>\n    </tr>\n    <tr>\n      <th>3</th>\n      <td>5</td>\n      <td>사지 제지방량</td>\n      <td>보통 / 59점</td>\n      <td>20.0</td>\n      <td>퇴행성 관절염증 감수성</td>\n      <td>보통 / 68점</td>\n    </tr>\n    <tr>\n      <th>4</th>\n      <td>6</td>\n      <td>복부비만(엉덩이허리비율)</td>\n      <td>주의 / 35점</td>\n      <td>21.0</td>\n      <td>배변 빈도</td>\n      <td>안심 / 61점</td>\n    </tr>\n    <tr>\n      <th>5</th>\n      <td>7</td>\n      <td>체중감량 후 체중회복가능성(요요가능성)</td>\n      <td>높음 / 23점</td>\n      <td>22.0</td>\n      <td>멀미</td>\n      <td>주의 / 34점</td>\n    </tr>\n    <tr>\n      <th>6</th>\n      <td>8</td>\n      <td>운동에 의한 체중감량효과</td>\n      <td>낮음 / 24점</td>\n      <td>NaN</td>\n      <td>NaN</td>\n      <td>NaN</td>\n    </tr>\n    <tr>\n      <th>7</th>\n      <td>9</td>\n      <td>폐활량</td>\n      <td>보통 / 57점</td>\n      <td>NaN</td>\n      <td>NaN</td>\n      <td>NaN</td>\n    </tr>\n    <tr>\n      <th>8</th>\n      <td>10</td>\n      <td>중성지방 농도</td>\n      <td>보통 / 71점</td>\n      <td>NaN</td>\n      <td>NaN</td>\n      <td>NaN</td>\n    </tr>\n    <tr>\n      <th>9</th>\n      <td>11</td>\n      <td>콜레스테롤</td>\n      <td>낮음 / 91점</td>\n      <td>NaN</td>\n      <td>NaN</td>\n      <td>NaN</td>\n    </tr>\n    <tr>\n      <th>10</th>\n      <td>12</td>\n      <td>LDL 콜레스테롤 농도</td>\n      <td>보통 / 42점</td>\n      <td>NaN</td>\n      <td>NaN</td>\n      <td>NaN</td>\n    </tr>\n    <tr>\n      <th>11</th>\n      <td>13</td>\n      <td>HDL 콜레스테롤 농도</td>\n      <td>보통 / 82점</td>\n      <td>NaN</td>\n      <td>NaN</td>\n      <td>NaN</td>\n    </tr>\n    <tr>\n      <th>12</th>\n      <td>14</td>\n      <td>혈당</td>\n      <td>주의 / 24점</td>\n      <td>NaN</td>\n      <td>NaN</td>\n      <td>NaN</td>\n    </tr>\n    <tr>\n      <th>13</th>\n      <td>15</td>\n      <td>혈압</td>\n      <td>보통 / 74점</td>\n      <td>NaN</td>\n      <td>NaN</td>\n      <td>NaN</td>\n    </tr>\n  </tbody>\n</table>\n</div>"
     },
     "execution_count": 38,
     "metadata": {},
     "output_type": "execute_result"
    }
   ],
   "source": [
    "df"
   ],
   "metadata": {
    "collapsed": false,
    "pycharm": {
     "name": "#%%\n"
    },
    "ExecuteTime": {
     "end_time": "2024-04-11T03:22:34.028956800Z",
     "start_time": "2024-04-11T03:22:33.982125300Z"
    }
   }
  },
  {
   "cell_type": "code",
   "execution_count": 39,
   "outputs": [
    {
     "data": {
      "text/plain": "    01                     비만  주의 / 28점    16        나트륨 배출  안심 / 93점\n0    2                   체지방률  보통 / 48점  17.0           요산치  안심 / 87점\n1    3                  체질량지수  주의 / 30점  18.0     혈청 단백질 농도  보통 / 71점\n2    4                   제지방량  보통 / 70점  19.0           골질량  보통 / 62점\n3    5                사지 제지방량  보통 / 59점  20.0  퇴행성 관절염증 감수성  보통 / 68점\n4    6          복부비만(엉덩이허리비율)  주의 / 35점  21.0         배변 빈도  안심 / 61점\n5    7  체중감량 후 체중회복가능성(요요가능성)  높음 / 23점  22.0            멀미  주의 / 34점\n6    8          운동에 의한 체중감량효과  낮음 / 24점   NaN           NaN       NaN\n7    9                    폐활량  보통 / 57점   NaN           NaN       NaN\n8   10                중성지방 농도  보통 / 71점   NaN           NaN       NaN\n9   11                  콜레스테롤  낮음 / 91점   NaN           NaN       NaN\n10  12           LDL 콜레스테롤 농도  보통 / 42점   NaN           NaN       NaN\n11  13           HDL 콜레스테롤 농도  보통 / 82점   NaN           NaN       NaN\n12  14                     혈당  주의 / 24점   NaN           NaN       NaN\n13  15                     혈압  보통 / 74점   NaN           NaN       NaN",
      "text/html": "<div>\n<style scoped>\n    .dataframe tbody tr th:only-of-type {\n        vertical-align: middle;\n    }\n\n    .dataframe tbody tr th {\n        vertical-align: top;\n    }\n\n    .dataframe thead th {\n        text-align: right;\n    }\n</style>\n<table border=\"1\" class=\"dataframe\">\n  <thead>\n    <tr style=\"text-align: right;\">\n      <th></th>\n      <th>01</th>\n      <th>비만</th>\n      <th>주의 / 28점</th>\n      <th>16</th>\n      <th>나트륨 배출</th>\n      <th>안심 / 93점</th>\n    </tr>\n  </thead>\n  <tbody>\n    <tr>\n      <th>0</th>\n      <td>2</td>\n      <td>체지방률</td>\n      <td>보통 / 48점</td>\n      <td>17.0</td>\n      <td>요산치</td>\n      <td>안심 / 87점</td>\n    </tr>\n    <tr>\n      <th>1</th>\n      <td>3</td>\n      <td>체질량지수</td>\n      <td>주의 / 30점</td>\n      <td>18.0</td>\n      <td>혈청 단백질 농도</td>\n      <td>보통 / 71점</td>\n    </tr>\n    <tr>\n      <th>2</th>\n      <td>4</td>\n      <td>제지방량</td>\n      <td>보통 / 70점</td>\n      <td>19.0</td>\n      <td>골질량</td>\n      <td>보통 / 62점</td>\n    </tr>\n    <tr>\n      <th>3</th>\n      <td>5</td>\n      <td>사지 제지방량</td>\n      <td>보통 / 59점</td>\n      <td>20.0</td>\n      <td>퇴행성 관절염증 감수성</td>\n      <td>보통 / 68점</td>\n    </tr>\n    <tr>\n      <th>4</th>\n      <td>6</td>\n      <td>복부비만(엉덩이허리비율)</td>\n      <td>주의 / 35점</td>\n      <td>21.0</td>\n      <td>배변 빈도</td>\n      <td>안심 / 61점</td>\n    </tr>\n    <tr>\n      <th>5</th>\n      <td>7</td>\n      <td>체중감량 후 체중회복가능성(요요가능성)</td>\n      <td>높음 / 23점</td>\n      <td>22.0</td>\n      <td>멀미</td>\n      <td>주의 / 34점</td>\n    </tr>\n    <tr>\n      <th>6</th>\n      <td>8</td>\n      <td>운동에 의한 체중감량효과</td>\n      <td>낮음 / 24점</td>\n      <td>NaN</td>\n      <td>NaN</td>\n      <td>NaN</td>\n    </tr>\n    <tr>\n      <th>7</th>\n      <td>9</td>\n      <td>폐활량</td>\n      <td>보통 / 57점</td>\n      <td>NaN</td>\n      <td>NaN</td>\n      <td>NaN</td>\n    </tr>\n    <tr>\n      <th>8</th>\n      <td>10</td>\n      <td>중성지방 농도</td>\n      <td>보통 / 71점</td>\n      <td>NaN</td>\n      <td>NaN</td>\n      <td>NaN</td>\n    </tr>\n    <tr>\n      <th>9</th>\n      <td>11</td>\n      <td>콜레스테롤</td>\n      <td>낮음 / 91점</td>\n      <td>NaN</td>\n      <td>NaN</td>\n      <td>NaN</td>\n    </tr>\n    <tr>\n      <th>10</th>\n      <td>12</td>\n      <td>LDL 콜레스테롤 농도</td>\n      <td>보통 / 42점</td>\n      <td>NaN</td>\n      <td>NaN</td>\n      <td>NaN</td>\n    </tr>\n    <tr>\n      <th>11</th>\n      <td>13</td>\n      <td>HDL 콜레스테롤 농도</td>\n      <td>보통 / 82점</td>\n      <td>NaN</td>\n      <td>NaN</td>\n      <td>NaN</td>\n    </tr>\n    <tr>\n      <th>12</th>\n      <td>14</td>\n      <td>혈당</td>\n      <td>주의 / 24점</td>\n      <td>NaN</td>\n      <td>NaN</td>\n      <td>NaN</td>\n    </tr>\n    <tr>\n      <th>13</th>\n      <td>15</td>\n      <td>혈압</td>\n      <td>보통 / 74점</td>\n      <td>NaN</td>\n      <td>NaN</td>\n      <td>NaN</td>\n    </tr>\n  </tbody>\n</table>\n</div>"
     },
     "execution_count": 39,
     "metadata": {},
     "output_type": "execute_result"
    }
   ],
   "source": [
    "import copy\n",
    "df2 = copy.deepcopy(df)\n",
    "df2"
   ],
   "metadata": {
    "collapsed": false,
    "pycharm": {
     "name": "#%%\n"
    },
    "ExecuteTime": {
     "end_time": "2024-04-11T03:22:34.082278500Z",
     "start_time": "2024-04-11T03:22:33.997727700Z"
    }
   }
  },
  {
   "cell_type": "code",
   "execution_count": 40,
   "outputs": [
    {
     "data": {
      "text/plain": "['01', '비만', '주의 / 28점', '16', '나트륨 배출', '안심 / 93점']"
     },
     "execution_count": 40,
     "metadata": {},
     "output_type": "execute_result"
    }
   ],
   "source": [
    "original_header = df2.columns.tolist()\n",
    "original_header"
   ],
   "metadata": {
    "collapsed": false,
    "pycharm": {
     "name": "#%%\n"
    },
    "ExecuteTime": {
     "end_time": "2024-04-11T03:22:34.144772800Z",
     "start_time": "2024-04-11T03:22:34.013347Z"
    }
   }
  },
  {
   "cell_type": "code",
   "execution_count": 41,
   "outputs": [
    {
     "data": {
      "text/plain": "     1                      2         3     4             5         6\n0   01                     비만  주의 / 28점    16        나트륨 배출  안심 / 93점\n1    2                   체지방률  보통 / 48점  17.0           요산치  안심 / 87점\n2    3                  체질량지수  주의 / 30점  18.0     혈청 단백질 농도  보통 / 71점\n3    4                   제지방량  보통 / 70점  19.0           골질량  보통 / 62점\n4    5                사지 제지방량  보통 / 59점  20.0  퇴행성 관절염증 감수성  보통 / 68점\n5    6          복부비만(엉덩이허리비율)  주의 / 35점  21.0         배변 빈도  안심 / 61점\n6    7  체중감량 후 체중회복가능성(요요가능성)  높음 / 23점  22.0            멀미  주의 / 34점\n7    8          운동에 의한 체중감량효과  낮음 / 24점   NaN           NaN       NaN\n8    9                    폐활량  보통 / 57점   NaN           NaN       NaN\n9   10                중성지방 농도  보통 / 71점   NaN           NaN       NaN\n10  11                  콜레스테롤  낮음 / 91점   NaN           NaN       NaN\n11  12           LDL 콜레스테롤 농도  보통 / 42점   NaN           NaN       NaN\n12  13           HDL 콜레스테롤 농도  보통 / 82점   NaN           NaN       NaN\n13  14                     혈당  주의 / 24점   NaN           NaN       NaN\n14  15                     혈압  보통 / 74점   NaN           NaN       NaN",
      "text/html": "<div>\n<style scoped>\n    .dataframe tbody tr th:only-of-type {\n        vertical-align: middle;\n    }\n\n    .dataframe tbody tr th {\n        vertical-align: top;\n    }\n\n    .dataframe thead th {\n        text-align: right;\n    }\n</style>\n<table border=\"1\" class=\"dataframe\">\n  <thead>\n    <tr style=\"text-align: right;\">\n      <th></th>\n      <th>1</th>\n      <th>2</th>\n      <th>3</th>\n      <th>4</th>\n      <th>5</th>\n      <th>6</th>\n    </tr>\n  </thead>\n  <tbody>\n    <tr>\n      <th>0</th>\n      <td>01</td>\n      <td>비만</td>\n      <td>주의 / 28점</td>\n      <td>16</td>\n      <td>나트륨 배출</td>\n      <td>안심 / 93점</td>\n    </tr>\n    <tr>\n      <th>1</th>\n      <td>2</td>\n      <td>체지방률</td>\n      <td>보통 / 48점</td>\n      <td>17.0</td>\n      <td>요산치</td>\n      <td>안심 / 87점</td>\n    </tr>\n    <tr>\n      <th>2</th>\n      <td>3</td>\n      <td>체질량지수</td>\n      <td>주의 / 30점</td>\n      <td>18.0</td>\n      <td>혈청 단백질 농도</td>\n      <td>보통 / 71점</td>\n    </tr>\n    <tr>\n      <th>3</th>\n      <td>4</td>\n      <td>제지방량</td>\n      <td>보통 / 70점</td>\n      <td>19.0</td>\n      <td>골질량</td>\n      <td>보통 / 62점</td>\n    </tr>\n    <tr>\n      <th>4</th>\n      <td>5</td>\n      <td>사지 제지방량</td>\n      <td>보통 / 59점</td>\n      <td>20.0</td>\n      <td>퇴행성 관절염증 감수성</td>\n      <td>보통 / 68점</td>\n    </tr>\n    <tr>\n      <th>5</th>\n      <td>6</td>\n      <td>복부비만(엉덩이허리비율)</td>\n      <td>주의 / 35점</td>\n      <td>21.0</td>\n      <td>배변 빈도</td>\n      <td>안심 / 61점</td>\n    </tr>\n    <tr>\n      <th>6</th>\n      <td>7</td>\n      <td>체중감량 후 체중회복가능성(요요가능성)</td>\n      <td>높음 / 23점</td>\n      <td>22.0</td>\n      <td>멀미</td>\n      <td>주의 / 34점</td>\n    </tr>\n    <tr>\n      <th>7</th>\n      <td>8</td>\n      <td>운동에 의한 체중감량효과</td>\n      <td>낮음 / 24점</td>\n      <td>NaN</td>\n      <td>NaN</td>\n      <td>NaN</td>\n    </tr>\n    <tr>\n      <th>8</th>\n      <td>9</td>\n      <td>폐활량</td>\n      <td>보통 / 57점</td>\n      <td>NaN</td>\n      <td>NaN</td>\n      <td>NaN</td>\n    </tr>\n    <tr>\n      <th>9</th>\n      <td>10</td>\n      <td>중성지방 농도</td>\n      <td>보통 / 71점</td>\n      <td>NaN</td>\n      <td>NaN</td>\n      <td>NaN</td>\n    </tr>\n    <tr>\n      <th>10</th>\n      <td>11</td>\n      <td>콜레스테롤</td>\n      <td>낮음 / 91점</td>\n      <td>NaN</td>\n      <td>NaN</td>\n      <td>NaN</td>\n    </tr>\n    <tr>\n      <th>11</th>\n      <td>12</td>\n      <td>LDL 콜레스테롤 농도</td>\n      <td>보통 / 42점</td>\n      <td>NaN</td>\n      <td>NaN</td>\n      <td>NaN</td>\n    </tr>\n    <tr>\n      <th>12</th>\n      <td>13</td>\n      <td>HDL 콜레스테롤 농도</td>\n      <td>보통 / 82점</td>\n      <td>NaN</td>\n      <td>NaN</td>\n      <td>NaN</td>\n    </tr>\n    <tr>\n      <th>13</th>\n      <td>14</td>\n      <td>혈당</td>\n      <td>주의 / 24점</td>\n      <td>NaN</td>\n      <td>NaN</td>\n      <td>NaN</td>\n    </tr>\n    <tr>\n      <th>14</th>\n      <td>15</td>\n      <td>혈압</td>\n      <td>보통 / 74점</td>\n      <td>NaN</td>\n      <td>NaN</td>\n      <td>NaN</td>\n    </tr>\n  </tbody>\n</table>\n</div>"
     },
     "execution_count": 41,
     "metadata": {},
     "output_type": "execute_result"
    }
   ],
   "source": [
    "df2.columns = range(1, len(df2.columns) + 1)\n",
    "df2.loc[-1] = original_header  # Add a row at the end with the original headers\n",
    "df2.index = df2.index + 1  # Shift the index\n",
    "df2.sort_index(inplace=True)  # Sort by index to move the new row to the top\n",
    "\n",
    "# Display the DataFrame to verify\n",
    "df2"
   ],
   "metadata": {
    "collapsed": false,
    "pycharm": {
     "name": "#%%\n"
    },
    "ExecuteTime": {
     "end_time": "2024-04-11T03:22:34.166952800Z",
     "start_time": "2024-04-11T03:22:34.028956800Z"
    }
   }
  },
  {
   "cell_type": "code",
   "execution_count": 42,
   "outputs": [
    {
     "data": {
      "text/plain": "     번호           항목명     나의 결과\n0    16        나트륨 배출  안심 / 93점\n1  17.0           요산치  안심 / 87점\n2  18.0     혈청 단백질 농도  보통 / 71점\n3  19.0           골질량  보통 / 62점\n4  20.0  퇴행성 관절염증 감수성  보통 / 68점\n5  21.0         배변 빈도  안심 / 61점\n6  22.0            멀미  주의 / 34점",
      "text/html": "<div>\n<style scoped>\n    .dataframe tbody tr th:only-of-type {\n        vertical-align: middle;\n    }\n\n    .dataframe tbody tr th {\n        vertical-align: top;\n    }\n\n    .dataframe thead th {\n        text-align: right;\n    }\n</style>\n<table border=\"1\" class=\"dataframe\">\n  <thead>\n    <tr style=\"text-align: right;\">\n      <th></th>\n      <th>번호</th>\n      <th>항목명</th>\n      <th>나의 결과</th>\n    </tr>\n  </thead>\n  <tbody>\n    <tr>\n      <th>0</th>\n      <td>16</td>\n      <td>나트륨 배출</td>\n      <td>안심 / 93점</td>\n    </tr>\n    <tr>\n      <th>1</th>\n      <td>17.0</td>\n      <td>요산치</td>\n      <td>안심 / 87점</td>\n    </tr>\n    <tr>\n      <th>2</th>\n      <td>18.0</td>\n      <td>혈청 단백질 농도</td>\n      <td>보통 / 71점</td>\n    </tr>\n    <tr>\n      <th>3</th>\n      <td>19.0</td>\n      <td>골질량</td>\n      <td>보통 / 62점</td>\n    </tr>\n    <tr>\n      <th>4</th>\n      <td>20.0</td>\n      <td>퇴행성 관절염증 감수성</td>\n      <td>보통 / 68점</td>\n    </tr>\n    <tr>\n      <th>5</th>\n      <td>21.0</td>\n      <td>배변 빈도</td>\n      <td>안심 / 61점</td>\n    </tr>\n    <tr>\n      <th>6</th>\n      <td>22.0</td>\n      <td>멀미</td>\n      <td>주의 / 34점</td>\n    </tr>\n  </tbody>\n</table>\n</div>"
     },
     "execution_count": 42,
     "metadata": {},
     "output_type": "execute_result"
    }
   ],
   "source": [
    "# 데이터프레임 df의 4, 5, 6열에서 0~15번 인덱스의 데이터를 복사합니다.\n",
    "data_to_move = df2.iloc[0:16, 3:6].copy()\n",
    "\n",
    "data_to_move = data_to_move.iloc[:7, :]\n",
    "data_to_move.columns = ['번호' , '항목명', '나의 결과']\n",
    "data_to_move\n"
   ],
   "metadata": {
    "collapsed": false,
    "pycharm": {
     "name": "#%%\n"
    },
    "ExecuteTime": {
     "end_time": "2024-04-11T03:22:34.266831400Z",
     "start_time": "2024-04-11T03:22:34.044593600Z"
    }
   }
  },
  {
   "cell_type": "code",
   "execution_count": 43,
   "outputs": [
    {
     "data": {
      "text/plain": "    번호                    항목명     나의 결과\n0   01                     비만  주의 / 28점\n1    2                   체지방률  보통 / 48점\n2    3                  체질량지수  주의 / 30점\n3    4                   제지방량  보통 / 70점\n4    5                사지 제지방량  보통 / 59점\n5    6          복부비만(엉덩이허리비율)  주의 / 35점\n6    7  체중감량 후 체중회복가능성(요요가능성)  높음 / 23점\n7    8          운동에 의한 체중감량효과  낮음 / 24점\n8    9                    폐활량  보통 / 57점\n9   10                중성지방 농도  보통 / 71점\n10  11                  콜레스테롤  낮음 / 91점\n11  12           LDL 콜레스테롤 농도  보통 / 42점\n12  13           HDL 콜레스테롤 농도  보통 / 82점\n13  14                     혈당  주의 / 24점\n14  15                     혈압  보통 / 74점",
      "text/html": "<div>\n<style scoped>\n    .dataframe tbody tr th:only-of-type {\n        vertical-align: middle;\n    }\n\n    .dataframe tbody tr th {\n        vertical-align: top;\n    }\n\n    .dataframe thead th {\n        text-align: right;\n    }\n</style>\n<table border=\"1\" class=\"dataframe\">\n  <thead>\n    <tr style=\"text-align: right;\">\n      <th></th>\n      <th>번호</th>\n      <th>항목명</th>\n      <th>나의 결과</th>\n    </tr>\n  </thead>\n  <tbody>\n    <tr>\n      <th>0</th>\n      <td>01</td>\n      <td>비만</td>\n      <td>주의 / 28점</td>\n    </tr>\n    <tr>\n      <th>1</th>\n      <td>2</td>\n      <td>체지방률</td>\n      <td>보통 / 48점</td>\n    </tr>\n    <tr>\n      <th>2</th>\n      <td>3</td>\n      <td>체질량지수</td>\n      <td>주의 / 30점</td>\n    </tr>\n    <tr>\n      <th>3</th>\n      <td>4</td>\n      <td>제지방량</td>\n      <td>보통 / 70점</td>\n    </tr>\n    <tr>\n      <th>4</th>\n      <td>5</td>\n      <td>사지 제지방량</td>\n      <td>보통 / 59점</td>\n    </tr>\n    <tr>\n      <th>5</th>\n      <td>6</td>\n      <td>복부비만(엉덩이허리비율)</td>\n      <td>주의 / 35점</td>\n    </tr>\n    <tr>\n      <th>6</th>\n      <td>7</td>\n      <td>체중감량 후 체중회복가능성(요요가능성)</td>\n      <td>높음 / 23점</td>\n    </tr>\n    <tr>\n      <th>7</th>\n      <td>8</td>\n      <td>운동에 의한 체중감량효과</td>\n      <td>낮음 / 24점</td>\n    </tr>\n    <tr>\n      <th>8</th>\n      <td>9</td>\n      <td>폐활량</td>\n      <td>보통 / 57점</td>\n    </tr>\n    <tr>\n      <th>9</th>\n      <td>10</td>\n      <td>중성지방 농도</td>\n      <td>보통 / 71점</td>\n    </tr>\n    <tr>\n      <th>10</th>\n      <td>11</td>\n      <td>콜레스테롤</td>\n      <td>낮음 / 91점</td>\n    </tr>\n    <tr>\n      <th>11</th>\n      <td>12</td>\n      <td>LDL 콜레스테롤 농도</td>\n      <td>보통 / 42점</td>\n    </tr>\n    <tr>\n      <th>12</th>\n      <td>13</td>\n      <td>HDL 콜레스테롤 농도</td>\n      <td>보통 / 82점</td>\n    </tr>\n    <tr>\n      <th>13</th>\n      <td>14</td>\n      <td>혈당</td>\n      <td>주의 / 24점</td>\n    </tr>\n    <tr>\n      <th>14</th>\n      <td>15</td>\n      <td>혈압</td>\n      <td>보통 / 74점</td>\n    </tr>\n  </tbody>\n</table>\n</div>"
     },
     "execution_count": 43,
     "metadata": {},
     "output_type": "execute_result"
    }
   ],
   "source": [
    "data_one_three = copy.deepcopy(df2)\n",
    "data_one_three = data_one_three.iloc[:15 , :3]\n",
    "data_one_three.columns = ['번호' , '항목명' , '나의 결과']\n",
    "data_one_three"
   ],
   "metadata": {
    "collapsed": false,
    "pycharm": {
     "name": "#%%\n"
    },
    "ExecuteTime": {
     "end_time": "2024-04-11T03:22:34.266831400Z",
     "start_time": "2024-04-11T03:22:34.060137700Z"
    }
   }
  },
  {
   "cell_type": "code",
   "execution_count": 44,
   "outputs": [
    {
     "data": {
      "text/plain": "    번호                    항목명     나의 결과\n0    1                     비만  주의 / 28점\n1    2                   체지방률  보통 / 48점\n2    3                  체질량지수  주의 / 30점\n3    4                   제지방량  보통 / 70점\n4    5                사지 제지방량  보통 / 59점\n5    6          복부비만(엉덩이허리비율)  주의 / 35점\n6    7  체중감량 후 체중회복가능성(요요가능성)  높음 / 23점\n7    8          운동에 의한 체중감량효과  낮음 / 24점\n8    9                    폐활량  보통 / 57점\n9   10                중성지방 농도  보통 / 71점\n10  11                  콜레스테롤  낮음 / 91점\n11  12           LDL 콜레스테롤 농도  보통 / 42점\n12  13           HDL 콜레스테롤 농도  보통 / 82점\n13  14                     혈당  주의 / 24점\n14  15                     혈압  보통 / 74점\n15  16                 나트륨 배출  안심 / 93점\n16  17                    요산치  안심 / 87점\n17  18              혈청 단백질 농도  보통 / 71점\n18  19                    골질량  보통 / 62점\n19  20           퇴행성 관절염증 감수성  보통 / 68점\n20  21                  배변 빈도  안심 / 61점\n21  22                     멀미  주의 / 34점",
      "text/html": "<div>\n<style scoped>\n    .dataframe tbody tr th:only-of-type {\n        vertical-align: middle;\n    }\n\n    .dataframe tbody tr th {\n        vertical-align: top;\n    }\n\n    .dataframe thead th {\n        text-align: right;\n    }\n</style>\n<table border=\"1\" class=\"dataframe\">\n  <thead>\n    <tr style=\"text-align: right;\">\n      <th></th>\n      <th>번호</th>\n      <th>항목명</th>\n      <th>나의 결과</th>\n    </tr>\n  </thead>\n  <tbody>\n    <tr>\n      <th>0</th>\n      <td>1</td>\n      <td>비만</td>\n      <td>주의 / 28점</td>\n    </tr>\n    <tr>\n      <th>1</th>\n      <td>2</td>\n      <td>체지방률</td>\n      <td>보통 / 48점</td>\n    </tr>\n    <tr>\n      <th>2</th>\n      <td>3</td>\n      <td>체질량지수</td>\n      <td>주의 / 30점</td>\n    </tr>\n    <tr>\n      <th>3</th>\n      <td>4</td>\n      <td>제지방량</td>\n      <td>보통 / 70점</td>\n    </tr>\n    <tr>\n      <th>4</th>\n      <td>5</td>\n      <td>사지 제지방량</td>\n      <td>보통 / 59점</td>\n    </tr>\n    <tr>\n      <th>5</th>\n      <td>6</td>\n      <td>복부비만(엉덩이허리비율)</td>\n      <td>주의 / 35점</td>\n    </tr>\n    <tr>\n      <th>6</th>\n      <td>7</td>\n      <td>체중감량 후 체중회복가능성(요요가능성)</td>\n      <td>높음 / 23점</td>\n    </tr>\n    <tr>\n      <th>7</th>\n      <td>8</td>\n      <td>운동에 의한 체중감량효과</td>\n      <td>낮음 / 24점</td>\n    </tr>\n    <tr>\n      <th>8</th>\n      <td>9</td>\n      <td>폐활량</td>\n      <td>보통 / 57점</td>\n    </tr>\n    <tr>\n      <th>9</th>\n      <td>10</td>\n      <td>중성지방 농도</td>\n      <td>보통 / 71점</td>\n    </tr>\n    <tr>\n      <th>10</th>\n      <td>11</td>\n      <td>콜레스테롤</td>\n      <td>낮음 / 91점</td>\n    </tr>\n    <tr>\n      <th>11</th>\n      <td>12</td>\n      <td>LDL 콜레스테롤 농도</td>\n      <td>보통 / 42점</td>\n    </tr>\n    <tr>\n      <th>12</th>\n      <td>13</td>\n      <td>HDL 콜레스테롤 농도</td>\n      <td>보통 / 82점</td>\n    </tr>\n    <tr>\n      <th>13</th>\n      <td>14</td>\n      <td>혈당</td>\n      <td>주의 / 24점</td>\n    </tr>\n    <tr>\n      <th>14</th>\n      <td>15</td>\n      <td>혈압</td>\n      <td>보통 / 74점</td>\n    </tr>\n    <tr>\n      <th>15</th>\n      <td>16</td>\n      <td>나트륨 배출</td>\n      <td>안심 / 93점</td>\n    </tr>\n    <tr>\n      <th>16</th>\n      <td>17</td>\n      <td>요산치</td>\n      <td>안심 / 87점</td>\n    </tr>\n    <tr>\n      <th>17</th>\n      <td>18</td>\n      <td>혈청 단백질 농도</td>\n      <td>보통 / 71점</td>\n    </tr>\n    <tr>\n      <th>18</th>\n      <td>19</td>\n      <td>골질량</td>\n      <td>보통 / 62점</td>\n    </tr>\n    <tr>\n      <th>19</th>\n      <td>20</td>\n      <td>퇴행성 관절염증 감수성</td>\n      <td>보통 / 68점</td>\n    </tr>\n    <tr>\n      <th>20</th>\n      <td>21</td>\n      <td>배변 빈도</td>\n      <td>안심 / 61점</td>\n    </tr>\n    <tr>\n      <th>21</th>\n      <td>22</td>\n      <td>멀미</td>\n      <td>주의 / 34점</td>\n    </tr>\n  </tbody>\n</table>\n</div>"
     },
     "execution_count": 44,
     "metadata": {},
     "output_type": "execute_result"
    }
   ],
   "source": [
    "df_combined = pd.concat([data_one_three , data_to_move] , axis=0, ignore_index=True)\n",
    "# 데이터프레임의 '번호' 열의 데이터 타입을 int로 변환합니다.\n",
    "df_combined['번호'] = df_combined['번호'].astype(int)\n",
    "df_combined"
   ],
   "metadata": {
    "collapsed": false,
    "pycharm": {
     "name": "#%%\n"
    },
    "ExecuteTime": {
     "end_time": "2024-04-11T03:22:34.266831400Z",
     "start_time": "2024-04-11T03:22:34.082278500Z"
    }
   }
  },
  {
   "cell_type": "code",
   "execution_count": 45,
   "outputs": [
    {
     "data": {
      "text/plain": "    번호            항목명     나의 결과\n0    1             비만  주의 / 28점\n2    3          체질량지수  주의 / 30점\n5    6  복부비만(엉덩이허리비율)  주의 / 35점\n13  14             혈당  주의 / 24점\n21  22             멀미  주의 / 34점",
      "text/html": "<div>\n<style scoped>\n    .dataframe tbody tr th:only-of-type {\n        vertical-align: middle;\n    }\n\n    .dataframe tbody tr th {\n        vertical-align: top;\n    }\n\n    .dataframe thead th {\n        text-align: right;\n    }\n</style>\n<table border=\"1\" class=\"dataframe\">\n  <thead>\n    <tr style=\"text-align: right;\">\n      <th></th>\n      <th>번호</th>\n      <th>항목명</th>\n      <th>나의 결과</th>\n    </tr>\n  </thead>\n  <tbody>\n    <tr>\n      <th>0</th>\n      <td>1</td>\n      <td>비만</td>\n      <td>주의 / 28점</td>\n    </tr>\n    <tr>\n      <th>2</th>\n      <td>3</td>\n      <td>체질량지수</td>\n      <td>주의 / 30점</td>\n    </tr>\n    <tr>\n      <th>5</th>\n      <td>6</td>\n      <td>복부비만(엉덩이허리비율)</td>\n      <td>주의 / 35점</td>\n    </tr>\n    <tr>\n      <th>13</th>\n      <td>14</td>\n      <td>혈당</td>\n      <td>주의 / 24점</td>\n    </tr>\n    <tr>\n      <th>21</th>\n      <td>22</td>\n      <td>멀미</td>\n      <td>주의 / 34점</td>\n    </tr>\n  </tbody>\n</table>\n</div>"
     },
     "execution_count": 45,
     "metadata": {},
     "output_type": "execute_result"
    }
   ],
   "source": [
    "filtered_rows = df_combined[df_combined['나의 결과'].str.contains('주의', na=False)]\n",
    "filtered_rows"
   ],
   "metadata": {
    "collapsed": false,
    "ExecuteTime": {
     "end_time": "2024-04-11T03:22:34.266831400Z",
     "start_time": "2024-04-11T03:22:34.097902100Z"
    }
   }
  },
  {
   "cell_type": "code",
   "execution_count": 46,
   "outputs": [
    {
     "data": {
      "text/plain": "0                비만\n2             체질량지수\n5     복부비만(엉덩이허리비율)\n13               혈당\n21               멀미\nName: 항목명, dtype: object"
     },
     "execution_count": 46,
     "metadata": {},
     "output_type": "execute_result"
    }
   ],
   "source": [
    "filtered_rows['항목명']"
   ],
   "metadata": {
    "collapsed": false,
    "ExecuteTime": {
     "end_time": "2024-04-11T03:22:34.266831400Z",
     "start_time": "2024-04-11T03:22:34.113524300Z"
    }
   }
  },
  {
   "cell_type": "code",
   "execution_count": 47,
   "outputs": [
    {
     "data": {
      "text/plain": "    번호                    항목명  결과1   결과2\n0    1                     비만  주의    28점\n1    2                   체지방률  보통    48점\n2    3                  체질량지수  주의    30점\n3    4                   제지방량  보통    70점\n4    5                사지 제지방량  보통    59점\n5    6          복부비만(엉덩이허리비율)  주의    35점\n6    7  체중감량 후 체중회복가능성(요요가능성)  높음    23점\n7    8          운동에 의한 체중감량효과  낮음    24점\n8    9                    폐활량  보통    57점\n9   10                중성지방 농도  보통    71점\n10  11                  콜레스테롤  낮음    91점\n11  12           LDL 콜레스테롤 농도  보통    42점\n12  13           HDL 콜레스테롤 농도  보통    82점\n13  14                     혈당  주의    24점\n14  15                     혈압  보통    74점\n15  16                 나트륨 배출  안심    93점\n16  17                    요산치  안심    87점\n17  18              혈청 단백질 농도  보통    71점\n18  19                    골질량  보통    62점\n19  20           퇴행성 관절염증 감수성  보통    68점\n20  21                  배변 빈도  안심    61점\n21  22                     멀미  주의    34점",
      "text/html": "<div>\n<style scoped>\n    .dataframe tbody tr th:only-of-type {\n        vertical-align: middle;\n    }\n\n    .dataframe tbody tr th {\n        vertical-align: top;\n    }\n\n    .dataframe thead th {\n        text-align: right;\n    }\n</style>\n<table border=\"1\" class=\"dataframe\">\n  <thead>\n    <tr style=\"text-align: right;\">\n      <th></th>\n      <th>번호</th>\n      <th>항목명</th>\n      <th>결과1</th>\n      <th>결과2</th>\n    </tr>\n  </thead>\n  <tbody>\n    <tr>\n      <th>0</th>\n      <td>1</td>\n      <td>비만</td>\n      <td>주의</td>\n      <td>28점</td>\n    </tr>\n    <tr>\n      <th>1</th>\n      <td>2</td>\n      <td>체지방률</td>\n      <td>보통</td>\n      <td>48점</td>\n    </tr>\n    <tr>\n      <th>2</th>\n      <td>3</td>\n      <td>체질량지수</td>\n      <td>주의</td>\n      <td>30점</td>\n    </tr>\n    <tr>\n      <th>3</th>\n      <td>4</td>\n      <td>제지방량</td>\n      <td>보통</td>\n      <td>70점</td>\n    </tr>\n    <tr>\n      <th>4</th>\n      <td>5</td>\n      <td>사지 제지방량</td>\n      <td>보통</td>\n      <td>59점</td>\n    </tr>\n    <tr>\n      <th>5</th>\n      <td>6</td>\n      <td>복부비만(엉덩이허리비율)</td>\n      <td>주의</td>\n      <td>35점</td>\n    </tr>\n    <tr>\n      <th>6</th>\n      <td>7</td>\n      <td>체중감량 후 체중회복가능성(요요가능성)</td>\n      <td>높음</td>\n      <td>23점</td>\n    </tr>\n    <tr>\n      <th>7</th>\n      <td>8</td>\n      <td>운동에 의한 체중감량효과</td>\n      <td>낮음</td>\n      <td>24점</td>\n    </tr>\n    <tr>\n      <th>8</th>\n      <td>9</td>\n      <td>폐활량</td>\n      <td>보통</td>\n      <td>57점</td>\n    </tr>\n    <tr>\n      <th>9</th>\n      <td>10</td>\n      <td>중성지방 농도</td>\n      <td>보통</td>\n      <td>71점</td>\n    </tr>\n    <tr>\n      <th>10</th>\n      <td>11</td>\n      <td>콜레스테롤</td>\n      <td>낮음</td>\n      <td>91점</td>\n    </tr>\n    <tr>\n      <th>11</th>\n      <td>12</td>\n      <td>LDL 콜레스테롤 농도</td>\n      <td>보통</td>\n      <td>42점</td>\n    </tr>\n    <tr>\n      <th>12</th>\n      <td>13</td>\n      <td>HDL 콜레스테롤 농도</td>\n      <td>보통</td>\n      <td>82점</td>\n    </tr>\n    <tr>\n      <th>13</th>\n      <td>14</td>\n      <td>혈당</td>\n      <td>주의</td>\n      <td>24점</td>\n    </tr>\n    <tr>\n      <th>14</th>\n      <td>15</td>\n      <td>혈압</td>\n      <td>보통</td>\n      <td>74점</td>\n    </tr>\n    <tr>\n      <th>15</th>\n      <td>16</td>\n      <td>나트륨 배출</td>\n      <td>안심</td>\n      <td>93점</td>\n    </tr>\n    <tr>\n      <th>16</th>\n      <td>17</td>\n      <td>요산치</td>\n      <td>안심</td>\n      <td>87점</td>\n    </tr>\n    <tr>\n      <th>17</th>\n      <td>18</td>\n      <td>혈청 단백질 농도</td>\n      <td>보통</td>\n      <td>71점</td>\n    </tr>\n    <tr>\n      <th>18</th>\n      <td>19</td>\n      <td>골질량</td>\n      <td>보통</td>\n      <td>62점</td>\n    </tr>\n    <tr>\n      <th>19</th>\n      <td>20</td>\n      <td>퇴행성 관절염증 감수성</td>\n      <td>보통</td>\n      <td>68점</td>\n    </tr>\n    <tr>\n      <th>20</th>\n      <td>21</td>\n      <td>배변 빈도</td>\n      <td>안심</td>\n      <td>61점</td>\n    </tr>\n    <tr>\n      <th>21</th>\n      <td>22</td>\n      <td>멀미</td>\n      <td>주의</td>\n      <td>34점</td>\n    </tr>\n  </tbody>\n</table>\n</div>"
     },
     "execution_count": 47,
     "metadata": {},
     "output_type": "execute_result"
    }
   ],
   "source": [
    "# '/'를 기준으로 '나의 결과' 열을 분할하여 새로운 데이터프레임을 생성합니다.\n",
    "split_df = df_combined['나의 결과'].str.split('/', expand=True)\n",
    "\n",
    "# 분할된 데이터프레임의 열 이름을 '결과1', '결과2'로 설정합니다.\n",
    "split_df.columns = ['결과1', '결과2']\n",
    "\n",
    "# 분할된 데이터를 원래의 df_combined 데이터프레임에 결합합니다.\n",
    "df_combined = pd.concat([df_combined, split_df], axis=1)\n",
    "df_combined = df_combined[['번호' , '항목명' , '결과1' , '결과2']]\n",
    "# 결과 확인\n",
    "df_combined"
   ],
   "metadata": {
    "collapsed": false,
    "ExecuteTime": {
     "end_time": "2024-04-11T03:22:34.266831400Z",
     "start_time": "2024-04-11T03:22:34.129148300Z"
    }
   }
  },
  {
   "cell_type": "code",
   "execution_count": 47,
   "outputs": [],
   "source": [],
   "metadata": {
    "collapsed": false,
    "ExecuteTime": {
     "end_time": "2024-04-11T03:22:34.266831400Z",
     "start_time": "2024-04-11T03:22:34.160442200Z"
    }
   }
  }
 ],
 "metadata": {
  "kernelspec": {
   "display_name": "Python 3",
   "language": "python",
   "name": "python3"
  },
  "language_info": {
   "codemirror_mode": {
    "name": "ipython",
    "version": 2
   },
   "file_extension": ".py",
   "mimetype": "text/x-python",
   "name": "python",
   "nbconvert_exporter": "python",
   "pygments_lexer": "ipython2",
   "version": "2.7.6"
  }
 },
 "nbformat": 4,
 "nbformat_minor": 0
}
