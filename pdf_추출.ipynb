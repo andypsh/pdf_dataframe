{
 "cells": [
  {
   "cell_type": "code",
   "execution_count": 13,
   "outputs": [
    {
     "name": "stdout",
     "output_type": "stream",
     "text": [
      "Requirement already satisfied: tabula-py==2.9.0 in c:\\users\\andyp\\anaconda3\\lib\\site-packages (2.9.0)\n",
      "Requirement already satisfied: distro in c:\\users\\andyp\\anaconda3\\lib\\site-packages (from tabula-py==2.9.0) (1.9.0)\n",
      "Requirement already satisfied: numpy in c:\\users\\andyp\\anaconda3\\lib\\site-packages (from tabula-py==2.9.0) (1.22.4)\n",
      "Requirement already satisfied: pandas>=0.25.3 in c:\\users\\andyp\\anaconda3\\lib\\site-packages (from tabula-py==2.9.0) (1.2.5)\n",
      "Requirement already satisfied: python-dateutil>=2.7.3 in c:\\users\\andyp\\anaconda3\\lib\\site-packages (from pandas>=0.25.3->tabula-py==2.9.0) (2.8.2)\n",
      "Requirement already satisfied: pytz>=2017.3 in c:\\users\\andyp\\anaconda3\\lib\\site-packages (from pandas>=0.25.3->tabula-py==2.9.0) (2021.1)\n",
      "Requirement already satisfied: six>=1.5 in c:\\users\\andyp\\anaconda3\\lib\\site-packages (from python-dateutil>=2.7.3->pandas>=0.25.3->tabula-py==2.9.0) (1.16.0)\n"
     ]
    },
    {
     "name": "stderr",
     "output_type": "stream",
     "text": [
      "WARNING: Ignoring invalid distribution -pencv-python-headless (c:\\users\\andyp\\anaconda3\\lib\\site-packages)\n",
      "WARNING: Ignoring invalid distribution -pencv-python-headless (c:\\users\\andyp\\anaconda3\\lib\\site-packages)\n",
      "WARNING: Ignoring invalid distribution -pencv-python-headless (c:\\users\\andyp\\anaconda3\\lib\\site-packages)\n",
      "WARNING: Ignoring invalid distribution -pencv-python-headless (c:\\users\\andyp\\anaconda3\\lib\\site-packages)\n",
      "WARNING: Ignoring invalid distribution -pencv-python-headless (c:\\users\\andyp\\anaconda3\\lib\\site-packages)\n",
      "WARNING: Ignoring invalid distribution -pencv-python-headless (c:\\users\\andyp\\anaconda3\\lib\\site-packages)\n",
      "\n",
      "[notice] A new release of pip is available: 23.0.1 -> 24.0\n",
      "[notice] To update, run: python.exe -m pip install --upgrade pip\n"
     ]
    }
   ],
   "source": [
    "!pip install tabula-py==2.9.0"
   ],
   "metadata": {
    "collapsed": false,
    "pycharm": {
     "name": "#%%\n"
    }
   }
  },
  {
   "cell_type": "code",
   "execution_count": 16,
   "outputs": [
    {
     "ename": "ImportError",
     "evalue": "cannot import name 'read_pdf' from 'tabula' (C:\\Users\\andyp\\anaconda3\\lib\\site-packages\\tabula\\__init__.py)",
     "output_type": "error",
     "traceback": [
      "\u001B[1;31m---------------------------------------------------------------------------\u001B[0m",
      "\u001B[1;31mImportError\u001B[0m                               Traceback (most recent call last)",
      "\u001B[1;32m<ipython-input-16-b7934392204c>\u001B[0m in \u001B[0;36m<module>\u001B[1;34m\u001B[0m\n\u001B[1;32m----> 1\u001B[1;33m \u001B[1;32mfrom\u001B[0m \u001B[0mtabula\u001B[0m \u001B[1;32mimport\u001B[0m \u001B[0mread_pdf\u001B[0m\u001B[1;33m\u001B[0m\u001B[1;33m\u001B[0m\u001B[0m\n\u001B[0m\u001B[0;32m      2\u001B[0m \u001B[1;32mimport\u001B[0m \u001B[0mpandas\u001B[0m \u001B[1;32mas\u001B[0m \u001B[0mpd\u001B[0m\u001B[1;33m\u001B[0m\u001B[1;33m\u001B[0m\u001B[0m\n\u001B[0;32m      3\u001B[0m \u001B[1;33m\u001B[0m\u001B[0m\n\u001B[0;32m      4\u001B[0m \u001B[1;32mdef\u001B[0m \u001B[0mread_pdf_table_to_dataframe\u001B[0m\u001B[1;33m(\u001B[0m\u001B[0mpdf_path\u001B[0m\u001B[1;33m,\u001B[0m \u001B[0mpage_number\u001B[0m\u001B[1;33m)\u001B[0m\u001B[1;33m:\u001B[0m\u001B[1;33m\u001B[0m\u001B[1;33m\u001B[0m\u001B[0m\n\u001B[0;32m      5\u001B[0m     \u001B[1;31m# tabula-py can only read tables from a PDF, ensure your PDF contains tables.\u001B[0m\u001B[1;33m\u001B[0m\u001B[1;33m\u001B[0m\u001B[1;33m\u001B[0m\u001B[0m\n",
      "\u001B[1;31mImportError\u001B[0m: cannot import name 'read_pdf' from 'tabula' (C:\\Users\\andyp\\anaconda3\\lib\\site-packages\\tabula\\__init__.py)"
     ]
    }
   ],
   "source": [
    "from tabula import read_pdf\n",
    "import pandas as pd\n",
    "\n",
    "def read_pdf_table_to_dataframe(pdf_path, page_number):\n",
    "    # tabula-py can only read tables from a PDF, ensure your PDF contains tables.\n",
    "    df_list = read_pdf(pdf_path, pages=page_number, multiple_tables=True)\n",
    "\n",
    "    # read_pdf returns a list of DataFrames, so concatenate them if there are multiple tables.\n",
    "    df = pd.concat(df_list, ignore_index=True) if df_list else pd.DataFrame()\n",
    "\n",
    "    return df\n",
    "\n",
    "# Specify the path to your PDF, and the page number you want to extract the table from.\n",
    "pdf_path = '젠톡_김지은.pdf'  # Change to your PDF file path.\n",
    "page_number = '8'  # Change to your specific page number.\n",
    "\n",
    "\n",
    "# Call the function and get the DataFrame.\n",
    "df = read_pdf_table_to_dataframe(pdf_path, page_number)\n",
    "\n",
    "# Now you can work with the DataFrame.\n",
    "print(df.head())\n"
   ],
   "metadata": {
    "collapsed": false,
    "pycharm": {
     "name": "#%%\n"
    }
   }
  },
  {
   "cell_type": "markdown",
   "source": [],
   "metadata": {
    "collapsed": false,
    "pycharm": {
     "name": "#%% md\n"
    }
   }
  },
  {
   "cell_type": "code",
   "execution_count": 9,
   "outputs": [
    {
     "ename": "AttributeError",
     "evalue": "module 'tabula' has no attribute 'read_pdf'",
     "output_type": "error",
     "traceback": [
      "\u001B[1;31m---------------------------------------------------------------------------\u001B[0m",
      "\u001B[1;31mAttributeError\u001B[0m                            Traceback (most recent call last)",
      "\u001B[1;32m<ipython-input-9-ffd3f4352d9b>\u001B[0m in \u001B[0;36m<module>\u001B[1;34m\u001B[0m\n\u001B[0;32m     13\u001B[0m \u001B[1;33m\u001B[0m\u001B[0m\n\u001B[0;32m     14\u001B[0m \u001B[1;32mif\u001B[0m \u001B[0m__name__\u001B[0m \u001B[1;33m==\u001B[0m \u001B[1;34m'__main__'\u001B[0m\u001B[1;33m:\u001B[0m\u001B[1;33m\u001B[0m\u001B[1;33m\u001B[0m\u001B[0m\n\u001B[1;32m---> 15\u001B[1;33m     \u001B[0mdataframes\u001B[0m \u001B[1;33m=\u001B[0m \u001B[0mextract_tables_from_pdf\u001B[0m\u001B[1;33m(\u001B[0m\u001B[1;34m'젠톡_김지은.pdf'\u001B[0m \u001B[1;33m,\u001B[0m \u001B[1;36m8\u001B[0m\u001B[1;33m)\u001B[0m\u001B[1;33m\u001B[0m\u001B[1;33m\u001B[0m\u001B[0m\n\u001B[0m\u001B[0;32m     16\u001B[0m     \u001B[1;32mfor\u001B[0m \u001B[0mi\u001B[0m\u001B[1;33m,\u001B[0m \u001B[0mdf\u001B[0m \u001B[1;32min\u001B[0m \u001B[0menumerate\u001B[0m\u001B[1;33m(\u001B[0m\u001B[0mdataframes\u001B[0m\u001B[1;33m)\u001B[0m\u001B[1;33m:\u001B[0m\u001B[1;33m\u001B[0m\u001B[1;33m\u001B[0m\u001B[0m\n\u001B[0;32m     17\u001B[0m         \u001B[0mprint\u001B[0m\u001B[1;33m(\u001B[0m\u001B[1;34mf'Table {i+1}:'\u001B[0m\u001B[1;33m)\u001B[0m\u001B[1;33m\u001B[0m\u001B[1;33m\u001B[0m\u001B[0m\n",
      "\u001B[1;32m<ipython-input-9-ffd3f4352d9b>\u001B[0m in \u001B[0;36mextract_tables_from_pdf\u001B[1;34m(file_path, pages)\u001B[0m\n\u001B[0;32m      4\u001B[0m \u001B[1;32mdef\u001B[0m \u001B[0mextract_tables_from_pdf\u001B[0m\u001B[1;33m(\u001B[0m\u001B[0mfile_path\u001B[0m\u001B[1;33m,\u001B[0m \u001B[0mpages\u001B[0m\u001B[1;33m)\u001B[0m\u001B[1;33m:\u001B[0m\u001B[1;33m\u001B[0m\u001B[1;33m\u001B[0m\u001B[0m\n\u001B[0;32m      5\u001B[0m     \u001B[1;31m# Accepts file path as an argument\u001B[0m\u001B[1;33m\u001B[0m\u001B[1;33m\u001B[0m\u001B[1;33m\u001B[0m\u001B[0m\n\u001B[1;32m----> 6\u001B[1;33m     \u001B[0mtables\u001B[0m \u001B[1;33m=\u001B[0m \u001B[0mtabula\u001B[0m\u001B[1;33m.\u001B[0m\u001B[0mread_pdf\u001B[0m\u001B[1;33m(\u001B[0m\u001B[0mfile_path\u001B[0m\u001B[1;33m,\u001B[0m \u001B[0mpages\u001B[0m\u001B[1;33m=\u001B[0m\u001B[0mpages\u001B[0m\u001B[1;33m,\u001B[0m \u001B[0mmultiple_tables\u001B[0m\u001B[1;33m=\u001B[0m\u001B[1;32mTrue\u001B[0m\u001B[1;33m)\u001B[0m\u001B[1;33m\u001B[0m\u001B[1;33m\u001B[0m\u001B[0m\n\u001B[0m\u001B[0;32m      7\u001B[0m     \u001B[1;31m# Extract tables from PDF document using tabula library\u001B[0m\u001B[1;33m\u001B[0m\u001B[1;33m\u001B[0m\u001B[1;33m\u001B[0m\u001B[0m\n\u001B[0;32m      8\u001B[0m     \u001B[0mdataframes\u001B[0m \u001B[1;33m=\u001B[0m \u001B[1;33m[\u001B[0m\u001B[1;33m]\u001B[0m\u001B[1;33m\u001B[0m\u001B[1;33m\u001B[0m\u001B[0m\n",
      "\u001B[1;31mAttributeError\u001B[0m: module 'tabula' has no attribute 'read_pdf'"
     ]
    }
   ],
   "source": [
    "import tabula\n",
    "import pandas as pd\n",
    "\n",
    "def extract_tables_from_pdf(file_path, pages):\n",
    "    # Accepts file path as an argument\n",
    "    tables = tabula.read_pdf(file_path, pages=pages, multiple_tables=True)\n",
    "    # Extract tables from PDF document using tabula library\n",
    "    dataframes = []\n",
    "    for table in tables:\n",
    "        df = pd.DataFrame(table)\n",
    "        dataframes.append(df)\n",
    "    return dataframes\n",
    "\n",
    "if __name__ == '__main__':\n",
    "    dataframes = extract_tables_from_pdf('젠톡_김지은.pdf' , 8)\n",
    "    for i, df in enumerate(dataframes):\n",
    "        print(f'Table {i+1}:')\n",
    "        print(df)\n"
   ],
   "metadata": {
    "collapsed": false,
    "pycharm": {
     "name": "#%%\n"
    }
   }
  },
  {
   "cell_type": "markdown",
   "source": [],
   "metadata": {
    "collapsed": false,
    "pycharm": {
     "name": "#%% md\n"
    }
   }
  },
  {
   "cell_type": "code",
   "execution_count": 10,
   "outputs": [
    {
     "ename": "AttributeError",
     "evalue": "module 'tabula' has no attribute 'read_pdf'",
     "output_type": "error",
     "traceback": [
      "\u001B[1;31m---------------------------------------------------------------------------\u001B[0m",
      "\u001B[1;31mAttributeError\u001B[0m                            Traceback (most recent call last)",
      "\u001B[1;32m<ipython-input-10-6e3982406a2d>\u001B[0m in \u001B[0;36m<module>\u001B[1;34m\u001B[0m\n\u001B[0;32m      1\u001B[0m \u001B[1;32mimport\u001B[0m \u001B[0mtabula\u001B[0m\u001B[1;33m\u001B[0m\u001B[1;33m\u001B[0m\u001B[0m\n\u001B[0;32m      2\u001B[0m \u001B[1;33m\u001B[0m\u001B[0m\n\u001B[1;32m----> 3\u001B[1;33m dfs = tabula.read_pdf(\n\u001B[0m\u001B[0;32m      4\u001B[0m     \u001B[1;34m\"https://github.com/chezou/tabula-py/raw/master/tests/resources/data.pdf\"\u001B[0m\u001B[1;33m,\u001B[0m\u001B[1;33m\u001B[0m\u001B[1;33m\u001B[0m\u001B[0m\n\u001B[0;32m      5\u001B[0m     \u001B[0mpages\u001B[0m\u001B[1;33m=\u001B[0m\u001B[1;34m\"all\"\u001B[0m\u001B[1;33m,\u001B[0m\u001B[1;33m\u001B[0m\u001B[1;33m\u001B[0m\u001B[0m\n",
      "\u001B[1;31mAttributeError\u001B[0m: module 'tabula' has no attribute 'read_pdf'"
     ]
    }
   ],
   "source": [
    "import tabula\n",
    "\n",
    "dfs = tabula.read_pdf(\n",
    "    \"https://github.com/chezou/tabula-py/raw/master/tests/resources/data.pdf\",\n",
    "    pages=\"all\",\n",
    "    stream=True\n",
    ")\n",
    "print(f\"Data Type :{type(dfs)}\")\n",
    "print(f\"Data Length: {len(dfs)}\")\n",
    "for index, table in enumerate(dfs):\n",
    "    print(f\"\\nData Index: {index}\")\n",
    "    print(type(table))\n",
    "    print(table.head())"
   ],
   "metadata": {
    "collapsed": false,
    "pycharm": {
     "name": "#%%\n"
    }
   }
  },
  {
   "cell_type": "code",
   "execution_count": null,
   "outputs": [],
   "source": [],
   "metadata": {
    "collapsed": false,
    "pycharm": {
     "name": "#%%\n"
    }
   }
  }
 ],
 "metadata": {
  "kernelspec": {
   "display_name": "Python 3",
   "language": "python",
   "name": "python3"
  },
  "language_info": {
   "codemirror_mode": {
    "name": "ipython",
    "version": 2
   },
   "file_extension": ".py",
   "mimetype": "text/x-python",
   "name": "python",
   "nbconvert_exporter": "python",
   "pygments_lexer": "ipython2",
   "version": "2.7.6"
  }
 },
 "nbformat": 4,
 "nbformat_minor": 0
}